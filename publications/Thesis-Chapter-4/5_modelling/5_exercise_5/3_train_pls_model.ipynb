{
 "cells": [
  {
   "cell_type": "markdown",
   "metadata": {
    "collapsed": false
   },
   "source": [
    "# PLS Model Benchmark"
   ]
  },
  {
   "cell_type": "markdown",
   "metadata": {
    "collapsed": false
   },
   "source": [
    "## Setup"
   ]
  },
  {
   "cell_type": "code",
   "execution_count": 1,
   "metadata": {
    "ExecuteTime": {
     "end_time": "2023-11-01T12:57:53.346252900Z",
     "start_time": "2023-11-01T12:57:53.315006100Z"
    },
    "collapsed": false
   },
   "outputs": [
    {
     "name": "stdout",
     "output_type": "stream",
     "text": [
      "WARNING:tensorflow:From c:\\Users\\12196478\\Git\\github.com\\jemjemwalsh\\research-dl-nirs\\venv\\lib\\site-packages\\keras\\src\\losses.py:2976: The name tf.losses.sparse_softmax_cross_entropy is deprecated. Please use tf.compat.v1.losses.sparse_softmax_cross_entropy instead.\n",
      "\n"
     ]
    }
   ],
   "source": [
    "import pandas as pd\n",
    "import os\n",
    "import pickle\n",
    "import numpy as np\n",
    "from sklearn.metrics import mean_squared_error, r2_score\n",
    "\n",
    "from sklearn.cross_decomposition import PLSRegression"
   ]
  },
  {
   "cell_type": "code",
   "execution_count": 2,
   "metadata": {},
   "outputs": [],
   "source": [
    "os.makedirs(name=f\"data/models/eval/predict\", exist_ok=True)\n",
    "os.makedirs(name=f\"data/models/eval/metrics\", exist_ok=True)"
   ]
  },
  {
   "cell_type": "code",
   "execution_count": 3,
   "metadata": {},
   "outputs": [],
   "source": [
    "COMPONENTS = 40"
   ]
  },
  {
   "cell_type": "code",
   "execution_count": 4,
   "metadata": {},
   "outputs": [],
   "source": [
    "# get preprocessed data\n",
    "df = pd.read_pickle(\"data/preprocessed_data/PLS/dataset.pkl\").query(\"subsequent_flag_1 == 0\")\n",
    "\n",
    "with open(f\"data/preprocessed_data/PLS/columns.pkl\", \"rb\") as file:\n",
    "    y_col, x_cols = pickle.load(file)\n",
    "df_cal = df.query(\"partition in ('train', 'validation') and train_partition == 'calibration'\")\n",
    "df_tune = df.query(\"partition in ('train', 'validation') and train_partition == 'tunning'\")"
   ]
  },
  {
   "cell_type": "code",
   "execution_count": 5,
   "metadata": {},
   "outputs": [],
   "source": [
    "def create_model(\n",
    "    n_components: int,\n",
    ") -> PLSRegression:\n",
    "\n",
    "    model = PLSRegression(\n",
    "        n_components=n_components, \n",
    "        scale=False\n",
    "    )\n",
    "    return model"
   ]
  },
  {
   "cell_type": "code",
   "execution_count": 6,
   "metadata": {},
   "outputs": [],
   "source": [
    "def calculate_metrics(y_true: np.ndarray, y_pred: np.ndarray) -> dict:\n",
    "    \"\"\"Calculate SEP, RMSE, Bias, and RPD of predictions\n",
    "\n",
    "    \"\"\"\n",
    "    n = y_true.shape[0]\n",
    "    rmse = np.sqrt(mean_squared_error(y_true, y_pred))\n",
    "    y_error = y_true - y_pred\n",
    "    mean_error = np.mean(y_error)\n",
    "    std_error = np.sqrt(np.square(y_error - mean_error).sum() / (n-1))\n",
    "    std_true = np.sqrt(np.square(y_true - y_true.mean()).sum() / (n-1))\n",
    "    return {\n",
    "        # number of samples\n",
    "        \"n\": len(y_true),\n",
    "        \n",
    "        # calculate r-squared (R2)\n",
    "        \"r2\": r2_score(y_true, y_pred),\n",
    "\n",
    "        # calculate root mean square error (RMSE)\n",
    "        \"rmse\": rmse,\n",
    "\n",
    "        # calculate standard error of prediction (SEP)\n",
    "        \"sep\": std_error,\n",
    "\n",
    "        # calculate bias\n",
    "        \"bias\": mean_error,\n",
    "\n",
    "        # calculate ratio of performance to deviation (RPD)\n",
    "        \"rpd\": std_true / std_error,\n",
    "    }"
   ]
  },
  {
   "cell_type": "code",
   "execution_count": 7,
   "metadata": {},
   "outputs": [],
   "source": [
    "test_sets = {\n",
    "    \"training\": \"partition in ('train', 'validation')\",\n",
    "    \"training_calibration\": \"partition in ('train', 'validation') and train_partition == 'calibration'\",\n",
    "    \"training_tuning\": \"partition in ('train', 'validation') and train_partition == 'tunning'\",\n",
    "    \"holdout\": \"partition == 'holdout'\",\n",
    "    \"season 2020\": \"season == 2020\",\n",
    "    \"season 2021\": \"season == 2021\",\n",
    "    \n",
    "}\n",
    "\n",
    "all_metrics = []"
   ]
  },
  {
   "cell_type": "code",
   "execution_count": 8,
   "metadata": {},
   "outputs": [],
   "source": [
    "# model initialization and compile\n",
    "model = create_model(\n",
    "    n_components=COMPONENTS,\n",
    ")\n",
    "\n",
    "# train model \n",
    "model.fit(\n",
    "    X=df_cal[x_cols],\n",
    "    Y=df_cal[y_col]\n",
    ")\n",
    "\n",
    "\n",
    "# make and save predictions\n",
    "df_pred = df.copy()\n",
    "df_pred[\"y_true\"] = df_pred[\"dry_matter\"]\n",
    "df_pred[\"y_pred\"] = model.predict(df[x_cols])\n",
    "df_pred.to_pickle(f\"data/models/eval/predict/pls.pkl\")\n",
    "\n",
    "for test_set, query in test_sets.items():\n",
    "    test_partition = df_pred.query(query)\n",
    "    metrics = calculate_metrics(\n",
    "        y_true=test_partition[\"y_true\"], \n",
    "        y_pred=test_partition[\"y_pred\"]\n",
    "    )\n",
    "    metrics[\"model\"] = f\"pls\"\n",
    "    metrics[\"test_set\"] = test_set\n",
    "    metrics[\"query\"] = query\n",
    "    all_metrics.append(metrics)\n",
    "\n",
    "metrics = pd.DataFrame(all_metrics)\n",
    "metrics.to_csv(f\"data/models/eval/metrics/pls.csv\")"
   ]
  },
  {
   "cell_type": "code",
   "execution_count": 9,
   "metadata": {},
   "outputs": [
    {
     "data": {
      "text/html": [
       "<div>\n",
       "<style scoped>\n",
       "    .dataframe tbody tr th:only-of-type {\n",
       "        vertical-align: middle;\n",
       "    }\n",
       "\n",
       "    .dataframe tbody tr th {\n",
       "        vertical-align: top;\n",
       "    }\n",
       "\n",
       "    .dataframe thead th {\n",
       "        text-align: right;\n",
       "    }\n",
       "</style>\n",
       "<table border=\"1\" class=\"dataframe\">\n",
       "  <thead>\n",
       "    <tr style=\"text-align: right;\">\n",
       "      <th></th>\n",
       "      <th>n</th>\n",
       "      <th>r2</th>\n",
       "      <th>rmse</th>\n",
       "      <th>sep</th>\n",
       "      <th>bias</th>\n",
       "      <th>rpd</th>\n",
       "      <th>model</th>\n",
       "      <th>test_set</th>\n",
       "      <th>query</th>\n",
       "    </tr>\n",
       "  </thead>\n",
       "  <tbody>\n",
       "    <tr>\n",
       "      <th>0</th>\n",
       "      <td>68009</td>\n",
       "      <td>0.868267</td>\n",
       "      <td>0.893129</td>\n",
       "      <td>0.893030</td>\n",
       "      <td>-1.369625e-02</td>\n",
       "      <td>2.755516</td>\n",
       "      <td>pls</td>\n",
       "      <td>training</td>\n",
       "      <td>partition in ('train', 'validation')</td>\n",
       "    </tr>\n",
       "    <tr>\n",
       "      <th>1</th>\n",
       "      <td>54341</td>\n",
       "      <td>0.871640</td>\n",
       "      <td>0.887483</td>\n",
       "      <td>0.887491</td>\n",
       "      <td>3.085848e-16</td>\n",
       "      <td>2.791163</td>\n",
       "      <td>pls</td>\n",
       "      <td>training_calibration</td>\n",
       "      <td>partition in ('train', 'validation') and train...</td>\n",
       "    </tr>\n",
       "    <tr>\n",
       "      <th>2</th>\n",
       "      <td>13668</td>\n",
       "      <td>0.853907</td>\n",
       "      <td>0.915232</td>\n",
       "      <td>0.912724</td>\n",
       "      <td>-6.814957e-02</td>\n",
       "      <td>2.623573</td>\n",
       "      <td>pls</td>\n",
       "      <td>training_tuning</td>\n",
       "      <td>partition in ('train', 'validation') and train...</td>\n",
       "    </tr>\n",
       "    <tr>\n",
       "      <th>3</th>\n",
       "      <td>2996</td>\n",
       "      <td>0.859358</td>\n",
       "      <td>0.927524</td>\n",
       "      <td>0.926521</td>\n",
       "      <td>-4.632827e-02</td>\n",
       "      <td>2.669842</td>\n",
       "      <td>pls</td>\n",
       "      <td>holdout</td>\n",
       "      <td>partition == 'holdout'</td>\n",
       "    </tr>\n",
       "    <tr>\n",
       "      <th>4</th>\n",
       "      <td>2594</td>\n",
       "      <td>0.853244</td>\n",
       "      <td>0.926685</td>\n",
       "      <td>0.923474</td>\n",
       "      <td>-7.917445e-02</td>\n",
       "      <td>2.619954</td>\n",
       "      <td>pls</td>\n",
       "      <td>season 2020</td>\n",
       "      <td>season == 2020</td>\n",
       "    </tr>\n",
       "    <tr>\n",
       "      <th>5</th>\n",
       "      <td>402</td>\n",
       "      <td>0.850846</td>\n",
       "      <td>0.932922</td>\n",
       "      <td>0.919248</td>\n",
       "      <td>1.656195e-01</td>\n",
       "      <td>2.631093</td>\n",
       "      <td>pls</td>\n",
       "      <td>season 2021</td>\n",
       "      <td>season == 2021</td>\n",
       "    </tr>\n",
       "  </tbody>\n",
       "</table>\n",
       "</div>"
      ],
      "text/plain": [
       "       n        r2      rmse       sep          bias       rpd model  \\\n",
       "0  68009  0.868267  0.893129  0.893030 -1.369625e-02  2.755516   pls   \n",
       "1  54341  0.871640  0.887483  0.887491  3.085848e-16  2.791163   pls   \n",
       "2  13668  0.853907  0.915232  0.912724 -6.814957e-02  2.623573   pls   \n",
       "3   2996  0.859358  0.927524  0.926521 -4.632827e-02  2.669842   pls   \n",
       "4   2594  0.853244  0.926685  0.923474 -7.917445e-02  2.619954   pls   \n",
       "5    402  0.850846  0.932922  0.919248  1.656195e-01  2.631093   pls   \n",
       "\n",
       "               test_set                                              query  \n",
       "0              training               partition in ('train', 'validation')  \n",
       "1  training_calibration  partition in ('train', 'validation') and train...  \n",
       "2       training_tuning  partition in ('train', 'validation') and train...  \n",
       "3               holdout                             partition == 'holdout'  \n",
       "4           season 2020                                     season == 2020  \n",
       "5           season 2021                                     season == 2021  "
      ]
     },
     "execution_count": 9,
     "metadata": {},
     "output_type": "execute_result"
    }
   ],
   "source": [
    "pd.DataFrame(all_metrics)"
   ]
  }
 ],
 "metadata": {
  "kernelspec": {
   "display_name": "Python 3",
   "language": "python",
   "name": "python3"
  },
  "language_info": {
   "codemirror_mode": {
    "name": "ipython",
    "version": 3
   },
   "file_extension": ".py",
   "mimetype": "text/x-python",
   "name": "python",
   "nbconvert_exporter": "python",
   "pygments_lexer": "ipython3",
   "version": "3.10.4"
  }
 },
 "nbformat": 4,
 "nbformat_minor": 0
}
